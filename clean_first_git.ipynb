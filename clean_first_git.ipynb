{
 "cells": [
  {
   "cell_type": "markdown",
   "metadata": {
    "toc": true
   },
   "source": [
    "<h1>Содержание<span class=\"tocSkip\"></span></h1>\n",
    "<div class=\"toc\"><ul class=\"toc-item\"><li><span><a href=\"#Подготовка-данных\" data-toc-modified-id=\"Подготовка-данных-1\"><span class=\"toc-item-num\">1&nbsp;&nbsp;</span>Подготовка данных</a></span></li><li><span><a href=\"#Исследование-задачи\" data-toc-modified-id=\"Исследование-задачи-2\"><span class=\"toc-item-num\">2&nbsp;&nbsp;</span>Исследование задачи</a></span></li><li><span><a href=\"#Борьба-с-дисбалансом\" data-toc-modified-id=\"Борьба-с-дисбалансом-3\"><span class=\"toc-item-num\">3&nbsp;&nbsp;</span>Борьба с дисбалансом</a></span></li><li><span><a href=\"#Тестирование-модели\" data-toc-modified-id=\"Тестирование-модели-4\"><span class=\"toc-item-num\">4&nbsp;&nbsp;</span>Тестирование модели</a></span></li><li><span><a href=\"#Чек-лист-готовности-проекта\" data-toc-modified-id=\"Чек-лист-готовности-проекта-5\"><span class=\"toc-item-num\">5&nbsp;&nbsp;</span>Чек-лист готовности проекта</a></span></li></ul></div>"
   ]
  },
  {
   "cell_type": "markdown",
   "metadata": {},
   "source": [
    "# Отток клиентов"
   ]
  },
  {
   "cell_type": "markdown",
   "metadata": {},
   "source": [
    "Из «Бета-Банка» стали уходить клиенты. Каждый месяц. Немного, но заметно. Банковские маркетологи посчитали: сохранять текущих клиентов дешевле, чем привлекать новых.\n",
    "\n",
    "Нужно спрогнозировать, уйдёт клиент из банка в ближайшее время или нет. Вам предоставлены исторические данные о поведении клиентов и расторжении договоров с банком. \n",
    "\n",
    "Постройте модель с предельно большим значением *F1*-меры. Чтобы сдать проект успешно, нужно довести метрику до 0.59. Проверьте *F1*-меру на тестовой выборке самостоятельно.\n",
    "\n",
    "Дополнительно измеряйте *AUC-ROC*, сравнивайте её значение с *F1*-мерой.\n",
    "\n",
    "Источник данных: [https://www.kaggle.com/barelydedicated/bank-customer-churn-modeling](https://www.kaggle.com/barelydedicated/bank-customer-churn-modeling)"
   ]
  },
  {
   "cell_type": "markdown",
   "metadata": {},
   "source": [
    "## Подготовка данных"
   ]
  },
  {
   "cell_type": "markdown",
   "metadata": {},
   "source": [
    "<b>*Описание данных:*</b>\n",
    "\n",
    " <b>Признаки</b>\n",
    "\n",
    "RowNumber — индекс строки в данных\n",
    "\n",
    "CustomerId — уникальный идентификатор клиента\n",
    "\n",
    "Surname — фамилия\n",
    "\n",
    "CreditScore — кредитный рейтинг\n",
    "\n",
    "Geography — страна проживания\n",
    "\n",
    "Gender — пол\n",
    "\n",
    "Age — возраст\n",
    "\n",
    "Tenure — сколько лет человек является клиентом банка\n",
    "\n",
    "Balance — баланс на счёте\n",
    "\n",
    "NumOfProducts — количество продуктов банка, используемых клиентом\n",
    "\n",
    "HasCrCard — наличие кредитной карты\n",
    "\n",
    "IsActiveMember — активность клиента\n",
    "\n",
    "EstimatedSalary — предполагаемая зарплата\n",
    "\n",
    " <b>Целевой признак</b>\n",
    "\n",
    "Exited — факт ухода клиента"
   ]
  },
  {
   "cell_type": "code",
   "execution_count": 1,
   "metadata": {},
   "outputs": [],
   "source": [
    "import pandas as pd\n",
    "from sklearn.model_selection import train_test_split\n",
    "\n",
    "from sklearn.metrics import f1_score\n",
    "from sklearn.metrics import roc_auc_score\n",
    "\n",
    "from sklearn.ensemble import RandomForestClassifier\n",
    "from sklearn.tree import DecisionTreeClassifier\n",
    "\n",
    "from sklearn.utils import shuffle\n"
   ]
  },
  {
   "cell_type": "markdown",
   "metadata": {},
   "source": [
    "Осуществим краткий обзор данных"
   ]
  },
  {
   "cell_type": "code",
   "execution_count": 2,
   "metadata": {},
   "outputs": [
    {
     "data": {
      "text/html": [
       "<div>\n",
       "<style scoped>\n",
       "    .dataframe tbody tr th:only-of-type {\n",
       "        vertical-align: middle;\n",
       "    }\n",
       "\n",
       "    .dataframe tbody tr th {\n",
       "        vertical-align: top;\n",
       "    }\n",
       "\n",
       "    .dataframe thead th {\n",
       "        text-align: right;\n",
       "    }\n",
       "</style>\n",
       "<table border=\"1\" class=\"dataframe\">\n",
       "  <thead>\n",
       "    <tr style=\"text-align: right;\">\n",
       "      <th></th>\n",
       "      <th>RowNumber</th>\n",
       "      <th>CustomerId</th>\n",
       "      <th>Surname</th>\n",
       "      <th>CreditScore</th>\n",
       "      <th>Geography</th>\n",
       "      <th>Gender</th>\n",
       "      <th>Age</th>\n",
       "      <th>Tenure</th>\n",
       "      <th>Balance</th>\n",
       "      <th>NumOfProducts</th>\n",
       "      <th>HasCrCard</th>\n",
       "      <th>IsActiveMember</th>\n",
       "      <th>EstimatedSalary</th>\n",
       "      <th>Exited</th>\n",
       "    </tr>\n",
       "  </thead>\n",
       "  <tbody>\n",
       "    <tr>\n",
       "      <th>0</th>\n",
       "      <td>1</td>\n",
       "      <td>15634602</td>\n",
       "      <td>Hargrave</td>\n",
       "      <td>619</td>\n",
       "      <td>France</td>\n",
       "      <td>Female</td>\n",
       "      <td>42</td>\n",
       "      <td>2.0</td>\n",
       "      <td>0.00</td>\n",
       "      <td>1</td>\n",
       "      <td>1</td>\n",
       "      <td>1</td>\n",
       "      <td>101348.88</td>\n",
       "      <td>1</td>\n",
       "    </tr>\n",
       "    <tr>\n",
       "      <th>1</th>\n",
       "      <td>2</td>\n",
       "      <td>15647311</td>\n",
       "      <td>Hill</td>\n",
       "      <td>608</td>\n",
       "      <td>Spain</td>\n",
       "      <td>Female</td>\n",
       "      <td>41</td>\n",
       "      <td>1.0</td>\n",
       "      <td>83807.86</td>\n",
       "      <td>1</td>\n",
       "      <td>0</td>\n",
       "      <td>1</td>\n",
       "      <td>112542.58</td>\n",
       "      <td>0</td>\n",
       "    </tr>\n",
       "    <tr>\n",
       "      <th>2</th>\n",
       "      <td>3</td>\n",
       "      <td>15619304</td>\n",
       "      <td>Onio</td>\n",
       "      <td>502</td>\n",
       "      <td>France</td>\n",
       "      <td>Female</td>\n",
       "      <td>42</td>\n",
       "      <td>8.0</td>\n",
       "      <td>159660.80</td>\n",
       "      <td>3</td>\n",
       "      <td>1</td>\n",
       "      <td>0</td>\n",
       "      <td>113931.57</td>\n",
       "      <td>1</td>\n",
       "    </tr>\n",
       "    <tr>\n",
       "      <th>3</th>\n",
       "      <td>4</td>\n",
       "      <td>15701354</td>\n",
       "      <td>Boni</td>\n",
       "      <td>699</td>\n",
       "      <td>France</td>\n",
       "      <td>Female</td>\n",
       "      <td>39</td>\n",
       "      <td>1.0</td>\n",
       "      <td>0.00</td>\n",
       "      <td>2</td>\n",
       "      <td>0</td>\n",
       "      <td>0</td>\n",
       "      <td>93826.63</td>\n",
       "      <td>0</td>\n",
       "    </tr>\n",
       "    <tr>\n",
       "      <th>4</th>\n",
       "      <td>5</td>\n",
       "      <td>15737888</td>\n",
       "      <td>Mitchell</td>\n",
       "      <td>850</td>\n",
       "      <td>Spain</td>\n",
       "      <td>Female</td>\n",
       "      <td>43</td>\n",
       "      <td>2.0</td>\n",
       "      <td>125510.82</td>\n",
       "      <td>1</td>\n",
       "      <td>1</td>\n",
       "      <td>1</td>\n",
       "      <td>79084.10</td>\n",
       "      <td>0</td>\n",
       "    </tr>\n",
       "  </tbody>\n",
       "</table>\n",
       "</div>"
      ],
      "text/plain": [
       "   RowNumber  CustomerId   Surname  CreditScore Geography  Gender  Age  \\\n",
       "0          1    15634602  Hargrave          619    France  Female   42   \n",
       "1          2    15647311      Hill          608     Spain  Female   41   \n",
       "2          3    15619304      Onio          502    France  Female   42   \n",
       "3          4    15701354      Boni          699    France  Female   39   \n",
       "4          5    15737888  Mitchell          850     Spain  Female   43   \n",
       "\n",
       "   Tenure    Balance  NumOfProducts  HasCrCard  IsActiveMember  \\\n",
       "0     2.0       0.00              1          1               1   \n",
       "1     1.0   83807.86              1          0               1   \n",
       "2     8.0  159660.80              3          1               0   \n",
       "3     1.0       0.00              2          0               0   \n",
       "4     2.0  125510.82              1          1               1   \n",
       "\n",
       "   EstimatedSalary  Exited  \n",
       "0        101348.88       1  \n",
       "1        112542.58       0  \n",
       "2        113931.57       1  \n",
       "3         93826.63       0  \n",
       "4         79084.10       0  "
      ]
     },
     "execution_count": 2,
     "metadata": {},
     "output_type": "execute_result"
    }
   ],
   "source": [
    "data_temp = pd.read_csv('/datasets/Churn.csv')\n",
    "data_temp.head()"
   ]
  },
  {
   "cell_type": "code",
   "execution_count": 3,
   "metadata": {},
   "outputs": [
    {
     "data": {
      "text/html": [
       "<div>\n",
       "<style scoped>\n",
       "    .dataframe tbody tr th:only-of-type {\n",
       "        vertical-align: middle;\n",
       "    }\n",
       "\n",
       "    .dataframe tbody tr th {\n",
       "        vertical-align: top;\n",
       "    }\n",
       "\n",
       "    .dataframe thead th {\n",
       "        text-align: right;\n",
       "    }\n",
       "</style>\n",
       "<table border=\"1\" class=\"dataframe\">\n",
       "  <thead>\n",
       "    <tr style=\"text-align: right;\">\n",
       "      <th></th>\n",
       "      <th>RowNumber</th>\n",
       "      <th>CustomerId</th>\n",
       "      <th>Surname</th>\n",
       "      <th>CreditScore</th>\n",
       "      <th>Geography</th>\n",
       "      <th>Gender</th>\n",
       "      <th>Age</th>\n",
       "      <th>Tenure</th>\n",
       "      <th>Balance</th>\n",
       "      <th>NumOfProducts</th>\n",
       "      <th>HasCrCard</th>\n",
       "      <th>IsActiveMember</th>\n",
       "      <th>EstimatedSalary</th>\n",
       "      <th>Exited</th>\n",
       "    </tr>\n",
       "  </thead>\n",
       "  <tbody>\n",
       "    <tr>\n",
       "      <th>9995</th>\n",
       "      <td>9996</td>\n",
       "      <td>15606229</td>\n",
       "      <td>Obijiaku</td>\n",
       "      <td>771</td>\n",
       "      <td>France</td>\n",
       "      <td>Male</td>\n",
       "      <td>39</td>\n",
       "      <td>5.0</td>\n",
       "      <td>0.00</td>\n",
       "      <td>2</td>\n",
       "      <td>1</td>\n",
       "      <td>0</td>\n",
       "      <td>96270.64</td>\n",
       "      <td>0</td>\n",
       "    </tr>\n",
       "    <tr>\n",
       "      <th>9996</th>\n",
       "      <td>9997</td>\n",
       "      <td>15569892</td>\n",
       "      <td>Johnstone</td>\n",
       "      <td>516</td>\n",
       "      <td>France</td>\n",
       "      <td>Male</td>\n",
       "      <td>35</td>\n",
       "      <td>10.0</td>\n",
       "      <td>57369.61</td>\n",
       "      <td>1</td>\n",
       "      <td>1</td>\n",
       "      <td>1</td>\n",
       "      <td>101699.77</td>\n",
       "      <td>0</td>\n",
       "    </tr>\n",
       "    <tr>\n",
       "      <th>9997</th>\n",
       "      <td>9998</td>\n",
       "      <td>15584532</td>\n",
       "      <td>Liu</td>\n",
       "      <td>709</td>\n",
       "      <td>France</td>\n",
       "      <td>Female</td>\n",
       "      <td>36</td>\n",
       "      <td>7.0</td>\n",
       "      <td>0.00</td>\n",
       "      <td>1</td>\n",
       "      <td>0</td>\n",
       "      <td>1</td>\n",
       "      <td>42085.58</td>\n",
       "      <td>1</td>\n",
       "    </tr>\n",
       "    <tr>\n",
       "      <th>9998</th>\n",
       "      <td>9999</td>\n",
       "      <td>15682355</td>\n",
       "      <td>Sabbatini</td>\n",
       "      <td>772</td>\n",
       "      <td>Germany</td>\n",
       "      <td>Male</td>\n",
       "      <td>42</td>\n",
       "      <td>3.0</td>\n",
       "      <td>75075.31</td>\n",
       "      <td>2</td>\n",
       "      <td>1</td>\n",
       "      <td>0</td>\n",
       "      <td>92888.52</td>\n",
       "      <td>1</td>\n",
       "    </tr>\n",
       "    <tr>\n",
       "      <th>9999</th>\n",
       "      <td>10000</td>\n",
       "      <td>15628319</td>\n",
       "      <td>Walker</td>\n",
       "      <td>792</td>\n",
       "      <td>France</td>\n",
       "      <td>Female</td>\n",
       "      <td>28</td>\n",
       "      <td>NaN</td>\n",
       "      <td>130142.79</td>\n",
       "      <td>1</td>\n",
       "      <td>1</td>\n",
       "      <td>0</td>\n",
       "      <td>38190.78</td>\n",
       "      <td>0</td>\n",
       "    </tr>\n",
       "  </tbody>\n",
       "</table>\n",
       "</div>"
      ],
      "text/plain": [
       "      RowNumber  CustomerId    Surname  CreditScore Geography  Gender  Age  \\\n",
       "9995       9996    15606229   Obijiaku          771    France    Male   39   \n",
       "9996       9997    15569892  Johnstone          516    France    Male   35   \n",
       "9997       9998    15584532        Liu          709    France  Female   36   \n",
       "9998       9999    15682355  Sabbatini          772   Germany    Male   42   \n",
       "9999      10000    15628319     Walker          792    France  Female   28   \n",
       "\n",
       "      Tenure    Balance  NumOfProducts  HasCrCard  IsActiveMember  \\\n",
       "9995     5.0       0.00              2          1               0   \n",
       "9996    10.0   57369.61              1          1               1   \n",
       "9997     7.0       0.00              1          0               1   \n",
       "9998     3.0   75075.31              2          1               0   \n",
       "9999     NaN  130142.79              1          1               0   \n",
       "\n",
       "      EstimatedSalary  Exited  \n",
       "9995         96270.64       0  \n",
       "9996        101699.77       0  \n",
       "9997         42085.58       1  \n",
       "9998         92888.52       1  \n",
       "9999         38190.78       0  "
      ]
     },
     "execution_count": 3,
     "metadata": {},
     "output_type": "execute_result"
    }
   ],
   "source": [
    "data_temp.tail()"
   ]
  },
  {
   "cell_type": "code",
   "execution_count": 4,
   "metadata": {
    "scrolled": false
   },
   "outputs": [
    {
     "name": "stdout",
     "output_type": "stream",
     "text": [
      "<class 'pandas.core.frame.DataFrame'>\n",
      "RangeIndex: 10000 entries, 0 to 9999\n",
      "Data columns (total 14 columns):\n",
      " #   Column           Non-Null Count  Dtype  \n",
      "---  ------           --------------  -----  \n",
      " 0   RowNumber        10000 non-null  int64  \n",
      " 1   CustomerId       10000 non-null  int64  \n",
      " 2   Surname          10000 non-null  object \n",
      " 3   CreditScore      10000 non-null  int64  \n",
      " 4   Geography        10000 non-null  object \n",
      " 5   Gender           10000 non-null  object \n",
      " 6   Age              10000 non-null  int64  \n",
      " 7   Tenure           9091 non-null   float64\n",
      " 8   Balance          10000 non-null  float64\n",
      " 9   NumOfProducts    10000 non-null  int64  \n",
      " 10  HasCrCard        10000 non-null  int64  \n",
      " 11  IsActiveMember   10000 non-null  int64  \n",
      " 12  EstimatedSalary  10000 non-null  float64\n",
      " 13  Exited           10000 non-null  int64  \n",
      "dtypes: float64(3), int64(8), object(3)\n",
      "memory usage: 1.1+ MB\n"
     ]
    }
   ],
   "source": [
    "data_temp.info()"
   ]
  },
  {
   "cell_type": "markdown",
   "metadata": {},
   "source": [
    "В столбце Tenure (сколько лет человек является клиентом банка) имеются пропуски, которые могут быть связаны, в том числе с технической ошибкой в данных при их сборе. При этом наличие пустых значений может повлиять на результаты дальнейшей работы с данными."
   ]
  },
  {
   "cell_type": "markdown",
   "metadata": {},
   "source": [
    "Заменим пустые значения на 0. Удаление строк с пустыми значения в рассматриваемом случае считаю менее предподчительным, поскольку количество таких значений достаточно большое."
   ]
  },
  {
   "cell_type": "code",
   "execution_count": 5,
   "metadata": {},
   "outputs": [],
   "source": [
    "data_temp.loc[data_temp['Tenure'].isna()] = 0"
   ]
  },
  {
   "cell_type": "code",
   "execution_count": 6,
   "metadata": {},
   "outputs": [
    {
     "name": "stdout",
     "output_type": "stream",
     "text": [
      "<class 'pandas.core.frame.DataFrame'>\n",
      "RangeIndex: 10000 entries, 0 to 9999\n",
      "Data columns (total 14 columns):\n",
      " #   Column           Non-Null Count  Dtype  \n",
      "---  ------           --------------  -----  \n",
      " 0   RowNumber        10000 non-null  int64  \n",
      " 1   CustomerId       10000 non-null  int64  \n",
      " 2   Surname          10000 non-null  object \n",
      " 3   CreditScore      10000 non-null  int64  \n",
      " 4   Geography        10000 non-null  object \n",
      " 5   Gender           10000 non-null  object \n",
      " 6   Age              10000 non-null  int64  \n",
      " 7   Tenure           10000 non-null  float64\n",
      " 8   Balance          10000 non-null  float64\n",
      " 9   NumOfProducts    10000 non-null  int64  \n",
      " 10  HasCrCard        10000 non-null  int64  \n",
      " 11  IsActiveMember   10000 non-null  int64  \n",
      " 12  EstimatedSalary  10000 non-null  float64\n",
      " 13  Exited           10000 non-null  int64  \n",
      "dtypes: float64(3), int64(8), object(3)\n",
      "memory usage: 1.1+ MB\n"
     ]
    }
   ],
   "source": [
    "data_temp.info()"
   ]
  },
  {
   "cell_type": "markdown",
   "metadata": {},
   "source": [
    "Пустые значения исключены.\n",
    "\n",
    "Далее целесообразно исключить столбцы RowNumber, CustomerId и Surname из данных, поскольку данные по таким столбцам не имеют значения для обучения и эффективности моделей."
   ]
  },
  {
   "cell_type": "code",
   "execution_count": 7,
   "metadata": {},
   "outputs": [],
   "source": [
    "data_temp = data_temp.drop(columns=['RowNumber', 'CustomerId', 'Surname'])"
   ]
  },
  {
   "cell_type": "markdown",
   "metadata": {},
   "source": [
    "Далее необходимо осуществить обработку категориальных признаков техникой One-Hot Encoding для осуществления прямого кодирования данных."
   ]
  },
  {
   "cell_type": "code",
   "execution_count": 8,
   "metadata": {
    "scrolled": true
   },
   "outputs": [
    {
     "data": {
      "text/plain": [
       "(10000, 14)"
      ]
     },
     "execution_count": 8,
     "metadata": {},
     "output_type": "execute_result"
    }
   ],
   "source": [
    "data = pd.get_dummies(data_temp, drop_first=True)\n",
    "data.shape"
   ]
  },
  {
   "cell_type": "markdown",
   "metadata": {},
   "source": [
    "Обработка OHE осуществлена успешно.\n",
    "\n",
    "Далее проведем разделение данных на тестовую, валидационную и тренировочную в два этапа."
   ]
  },
  {
   "cell_type": "code",
   "execution_count": 9,
   "metadata": {},
   "outputs": [
    {
     "name": "stdout",
     "output_type": "stream",
     "text": [
      "(1600, 13) (1600,)\n",
      "(2000, 13) (2000,)\n",
      "(6400, 13) (6400,)\n"
     ]
    }
   ],
   "source": [
    "features = data.drop(['Exited'], axis=1)\n",
    "target = data['Exited']\n",
    "features_train_valid, features_test, target_train_valid, target_test = train_test_split(features, target, test_size=0.2, random_state=12345, stratify=target)\n",
    "features_train, features_valid, target_train, target_valid = train_test_split(features_train_valid, target_train_valid, test_size=0.2, random_state=12345, stratify=target_train_valid)\n",
    "print(features_valid.shape, target_valid.shape)\n",
    "print(features_test.shape, target_test.shape)\n",
    "print(features_train.shape, target_train.shape)"
   ]
  },
  {
   "cell_type": "markdown",
   "metadata": {},
   "source": [
    "Разделение данных осуществлено успешно.\n",
    "\n",
    "Данные подготовлены для обучения моделей и дальнейшей работы с ними.\n",
    "\n",
    "**Вывод:**\n",
    "\n",
    "В ходе обзора и подготовки данных установлено, что данные содержат пропуски (устранено) и избыточные столбцы с данными (исключены)."
   ]
  },
  {
   "cell_type": "markdown",
   "metadata": {},
   "source": [
    "## Исследование задачи"
   ]
  },
  {
   "cell_type": "markdown",
   "metadata": {},
   "source": [
    "Осуществим проверку баланса классов"
   ]
  },
  {
   "cell_type": "code",
   "execution_count": 10,
   "metadata": {},
   "outputs": [
    {
     "data": {
      "text/plain": [
       "0    8146\n",
       "1    1854\n",
       "Name: Exited, dtype: int64"
      ]
     },
     "execution_count": 10,
     "metadata": {},
     "output_type": "execute_result"
    }
   ],
   "source": [
    "data['Exited'].value_counts()"
   ]
  },
  {
   "cell_type": "markdown",
   "metadata": {},
   "source": [
    "Таким образом, учитывая, что соотношение положительных и отрицательных классов близко не равно 1:1 (соотношение 4:1), можно прийти к выводу что в данных присуствует дисбаланс. Необходимо учитывая указанный факт при дальнейшем обучении модели."
   ]
  },
  {
   "cell_type": "markdown",
   "metadata": {},
   "source": [
    "Исследуем эффективность двух видов моделей: Решающее дерево и Случайный лес."
   ]
  },
  {
   "cell_type": "markdown",
   "metadata": {},
   "source": [
    "**Случайный лес:**"
   ]
  },
  {
   "cell_type": "code",
   "execution_count": 11,
   "metadata": {},
   "outputs": [
    {
     "name": "stdout",
     "output_type": "stream",
     "text": [
      "Лучшее количество деревьев: 120 \n",
      " лучшая f1 метрика: 0.5580357142857143 \n",
      "\n"
     ]
    }
   ],
   "source": [
    "#вариант ДО изменений:\n",
    "\n",
    "#for est in range(50, 130, 10):\n",
    "#    model = RandomForestClassifier(n_estimators=est, random_state=12345, max_depth=10)\n",
    "#    model.fit(features_train, target_train)\n",
    "          \n",
    "#    predicted_valid = model.predict(features_valid)\n",
    "#    f1 = f1_score(target_valid, predicted_valid)\n",
    "#    print(\"Количество деревьев:\", est, \"\\n\", \"f1 метрика:\", f1, \"\\n\")\n",
    "\n",
    "#вариант ПОСЛЕ изменений:\n",
    "f1 = 0\n",
    "for est in range(50, 130, 10):\n",
    "    model = RandomForestClassifier(n_estimators=est, random_state=12345, max_depth=10)\n",
    "    model.fit(features_train, target_train)\n",
    "          \n",
    "    predicted_valid = model.predict(features_valid)\n",
    "    f1_temp = f1_score(target_valid, predicted_valid)\n",
    "    if f1_temp > f1:\n",
    "        f1 = f1_temp\n",
    "        best_est = est\n",
    "print(\"Лучшее количество деревьев:\", est, \"\\n\", \"лучшая f1 метрика:\", f1, \"\\n\")\n",
    "\n"
   ]
  },
  {
   "cell_type": "code",
   "execution_count": 12,
   "metadata": {},
   "outputs": [
    {
     "name": "stdout",
     "output_type": "stream",
     "text": [
      "0.8593068055846259\n"
     ]
    }
   ],
   "source": [
    "prob_valid = model.predict_proba(features_valid)\n",
    "prob_one_valid = prob_valid[:, 1]\n",
    "auc_roc = roc_auc_score(target_valid, prob_one_valid)\n",
    "print(auc_roc)"
   ]
  },
  {
   "cell_type": "markdown",
   "metadata": {},
   "source": [
    "Таким образом, экспериментально установлено, что оптимальным набором гиперпараметров при использовании \"Случайного леса\" является: количество деревьев - 120, глубина - 10. При этом учтена скорость совершения операции.\n",
    "\n",
    "f1 - 0.558\n",
    "\n",
    "roc_auc_score - 0.859"
   ]
  },
  {
   "cell_type": "markdown",
   "metadata": {},
   "source": [
    "**Решающее дерево:**"
   ]
  },
  {
   "cell_type": "code",
   "execution_count": 13,
   "metadata": {},
   "outputs": [
    {
     "name": "stdout",
     "output_type": "stream",
     "text": [
      "Лучшая глубина дерева 7 : \n",
      "  Лучшая f1 метрика: 0.5642105263157894 \n",
      "\n"
     ]
    }
   ],
   "source": [
    "f1_2 = 0\n",
    "for depth in range(2, 15):\n",
    "    model = DecisionTreeClassifier(random_state=12345, max_depth=depth)\n",
    "    model.fit(features_train, target_train)\n",
    "    predict_valid = model.predict(features_valid)\n",
    "    f1_2_temp = f1_score(target_valid, predict_valid)\n",
    "    if f1_2_temp > f1_2:\n",
    "        f1_2 = f1_2_temp\n",
    "        best_depth = depth\n",
    "print(\"Лучшая глубина дерева\", best_depth, \":\",  \"\\n\", \" Лучшая f1 метрика:\", f1_2, \"\\n\")"
   ]
  },
  {
   "cell_type": "code",
   "execution_count": 14,
   "metadata": {},
   "outputs": [
    {
     "name": "stdout",
     "output_type": "stream",
     "text": [
      "0.8143664839750795\n"
     ]
    }
   ],
   "source": [
    "\n",
    "model = DecisionTreeClassifier(random_state=12345, max_depth=best_depth)\n",
    "model.fit(features_train, target_train)\n",
    "\n",
    "prob_valid1 = model.predict_proba(features_valid)\n",
    "prob_one_valid1 = prob_valid1[:, 1]\n",
    "auc_roc1 = roc_auc_score(target_valid, prob_one_valid1)\n",
    "print(auc_roc1)"
   ]
  },
  {
   "cell_type": "markdown",
   "metadata": {},
   "source": [
    "Таким образом, экспериментально установлено, что оптимальным набором гиперпараметров при использовании \"Решающего дерева\" является: глубина - 7.\n",
    "\n",
    "f1 - 0.564\n",
    "\n",
    "roc_auc_score - 0.814"
   ]
  },
  {
   "cell_type": "markdown",
   "metadata": {},
   "source": [
    "**Вывод:**\n",
    "\n",
    "Учитывая вышеизложенные расчеты, установлено, что модель \"Случайный лес\" достигает наибольших показателей метрик F1 и roc_auc_score, в связи с чем, такая модель подлежит дальнейшему использованию."
   ]
  },
  {
   "cell_type": "markdown",
   "metadata": {},
   "source": [
    "## Борьба с дисбалансом"
   ]
  },
  {
   "cell_type": "markdown",
   "metadata": {},
   "source": [
    "В целях исключения дисбаланса целесообразно попробовать применить атрибут class_weight при обучении моделей \"Случайный лес\" и \"Решающее дерево\"."
   ]
  },
  {
   "cell_type": "code",
   "execution_count": 15,
   "metadata": {},
   "outputs": [
    {
     "name": "stdout",
     "output_type": "stream",
     "text": [
      "F1: 0.5447368421052632\n",
      "ROC-AUC: 0.8111041342046714\n"
     ]
    }
   ],
   "source": [
    "model_balance = DecisionTreeClassifier(random_state=12345, max_depth=7, class_weight = 'balanced')\n",
    "model_balance.fit(features_train, target_train)\n",
    "\n",
    "predict_valid = model_balance.predict(features_valid)\n",
    "f1_balance = f1_score(target_valid, predict_valid)\n",
    "print(\"F1:\", f1_balance)\n",
    "\n",
    "prob_valid1_1 = model_balance.predict_proba(features_valid)\n",
    "prob_one_valid1_1 = prob_valid1_1[:, 1]\n",
    "auc_roc1_1 = roc_auc_score(target_valid, prob_one_valid1_1)\n",
    "print(\"ROC-AUC:\", auc_roc1_1)"
   ]
  },
  {
   "cell_type": "code",
   "execution_count": 16,
   "metadata": {},
   "outputs": [
    {
     "name": "stdout",
     "output_type": "stream",
     "text": [
      "F1: 0.5859247135842881\n",
      "ROC-AUC: 0.8657255595091359\n"
     ]
    }
   ],
   "source": [
    "model_balance_1 = RandomForestClassifier(n_estimators=120, random_state=12345, max_depth=10, class_weight = 'balanced')\n",
    "model_balance_1.fit(features_train, target_train)\n",
    "\n",
    "predict_valid_1 = model_balance_1.predict(features_valid)\n",
    "f1_balance_1 = f1_score(target_valid, predict_valid_1)\n",
    "print(\"F1:\", f1_balance_1)\n",
    "\n",
    "prob_valid1_2 = model_balance_1.predict_proba(features_valid)\n",
    "prob_one_valid1_2 = prob_valid1_2[:, 1]\n",
    "auc_roc1_2 = roc_auc_score(target_valid, prob_one_valid1_2)\n",
    "print(\"ROC-AUC:\", auc_roc1_2)"
   ]
  },
  {
   "cell_type": "markdown",
   "metadata": {},
   "source": [
    "Таким образом, модель \"Случайный лес\" имеет наибольший показатель f1 и ROC-AUC, в связи с чем, подлежит использованию в дальнейшей работе. При этом достигнуто увеличение метрики f1.\n"
   ]
  },
  {
   "cell_type": "markdown",
   "metadata": {},
   "source": [
    "Дополнительно, целесообразно попробовать применить метод увеличения выборки тренировочных данных. При этом метод уменьшения выборки в рассматриваемом случае является менее предпочтительным ввиду относительно малого размера выборки train."
   ]
  },
  {
   "cell_type": "code",
   "execution_count": 17,
   "metadata": {},
   "outputs": [],
   "source": [
    "def upsample(features, target, repeat):\n",
    "    features_zeros = features_train[target_train == 0]\n",
    "    features_ones = features_train[target_train == 1]\n",
    "    target_zeros = target_train[target_train == 0]\n",
    "    target_ones = target_train[target_train == 1]\n",
    "    \n",
    "    features_upsampled = pd.concat([features_zeros] + [features_ones] * repeat)\n",
    "    target_upsampled = pd.concat([target_zeros] + [target_ones] * repeat)\n",
    "    \n",
    "    features_upsampled, target_upsampled = shuffle(\n",
    "        features_upsampled, target_upsampled, random_state=12345)\n",
    "    \n",
    "    return features_upsampled, target_upsampled   \n",
    "\n",
    "features_upsampled, target_upsampled = upsample(features_train, target_train, 4)"
   ]
  },
  {
   "cell_type": "markdown",
   "metadata": {},
   "source": [
    "Данные подготовлены (увеличены и размещаны) для дальнейшего обучения."
   ]
  },
  {
   "cell_type": "markdown",
   "metadata": {},
   "source": [
    "Обучение модели \"Решающее дерево\" на \"увеличенных данных\" и расчет метрики f1:"
   ]
  },
  {
   "cell_type": "code",
   "execution_count": 18,
   "metadata": {},
   "outputs": [
    {
     "name": "stdout",
     "output_type": "stream",
     "text": [
      "F1: 0.5464788732394367\n",
      "ROC-AUC: 0.8147088691985085\n"
     ]
    }
   ],
   "source": [
    "model_balance_2 = DecisionTreeClassifier(random_state=12345, max_depth=7)\n",
    "model_balance_2.fit(features_upsampled, target_upsampled)\n",
    "\n",
    "predict_valid_2 = model_balance_2.predict(features_valid)\n",
    "f1_balance_2 = f1_score(target_valid, predict_valid_2)\n",
    "print(\"F1:\", f1_balance_2)\n",
    "\n",
    "prob_valid2_2 = model_balance_2.predict_proba(features_valid)\n",
    "prob_one_valid2_2 = prob_valid2_2[:, 1]\n",
    "auc_roc2_2 = roc_auc_score(target_valid, prob_one_valid2_2)\n",
    "print(\"ROC-AUC:\", auc_roc2_2)"
   ]
  },
  {
   "cell_type": "markdown",
   "metadata": {},
   "source": [
    "Обучение модели \"Случайный лес\" на \"увеличенных данных\" и расчет метрики f1:"
   ]
  },
  {
   "cell_type": "code",
   "execution_count": 19,
   "metadata": {},
   "outputs": [
    {
     "name": "stdout",
     "output_type": "stream",
     "text": [
      "F1: 0.5925925925925927\n",
      "ROC-AUC: 0.8624257411671072\n"
     ]
    }
   ],
   "source": [
    "model_balance_3 = RandomForestClassifier(n_estimators=120, random_state=12345, max_depth=10)\n",
    "model_balance_3.fit(features_upsampled, target_upsampled)\n",
    "\n",
    "predict_valid_3 = model_balance_3.predict(features_valid)\n",
    "f1_balance_3 = f1_score(target_valid, predict_valid_3)\n",
    "print(\"F1:\", f1_balance_3)\n",
    "\n",
    "prob_valid1_3 = model_balance_3.predict_proba(features_valid)\n",
    "prob_one_valid1_3 = prob_valid1_3[:, 1]\n",
    "auc_roc1_3 = roc_auc_score(target_valid, prob_one_valid1_3)\n",
    "print(\"ROC-AUC:\", auc_roc1_3)"
   ]
  },
  {
   "cell_type": "markdown",
   "metadata": {},
   "source": [
    "**Вывод:**\n",
    "\n",
    "Таким образом, учитывая достаточность размера метрики f1 и ROC-AUC, модель \"Случайный лес\" является более успешной. При этом необходимо использовать модель уравновешанную по классам. "
   ]
  },
  {
   "cell_type": "markdown",
   "metadata": {},
   "source": [
    "## Тестирование модели"
   ]
  },
  {
   "cell_type": "markdown",
   "metadata": {},
   "source": [
    "Осуществим обучение модели \"Случайный лес\" на тестовых данных с применением атрибута class_weight:"
   ]
  },
  {
   "cell_type": "code",
   "execution_count": 20,
   "metadata": {},
   "outputs": [
    {
     "name": "stdout",
     "output_type": "stream",
     "text": [
      "F1: 0.6126126126126126\n"
     ]
    }
   ],
   "source": [
    "model = RandomForestClassifier(n_estimators=120, random_state=12345, max_depth=10,  class_weight = 'balanced')\n",
    "model.fit(features_train, target_train)\n",
    "\n",
    "predict_test = model.predict(features_test)\n",
    "f1 = f1_score(target_test, predict_test)\n",
    "print(\"F1:\", f1)"
   ]
  },
  {
   "cell_type": "code",
   "execution_count": 21,
   "metadata": {},
   "outputs": [
    {
     "name": "stdout",
     "output_type": "stream",
     "text": [
      "0.8763930048199827\n"
     ]
    }
   ],
   "source": [
    "prob_valid = model.predict_proba(features_test)\n",
    "prob_one_valid = prob_valid[:, 1]\n",
    "\n",
    "\n",
    "auc_roc = roc_auc_score(target_test, prob_one_valid)\n",
    "print(auc_roc)"
   ]
  },
  {
   "cell_type": "markdown",
   "metadata": {},
   "source": [
    "Таким образом, достигнуто и превышено значение метрики f1, предусмотренное условиями задачи, что свидетелеьствует об объективности выбранной модели. "
   ]
  },
  {
   "cell_type": "markdown",
   "metadata": {},
   "source": [
    "**Общий вывод:**\n",
    "\n",
    "В ходе выполнения проекта разработана модель, имеющая достаточный уровень метрики f1. При этом в ходе подготовки данных были выявлены и заполнены пропуски в данных, исключены лишние столбцы, которые не имеют значения для обудения данных. Также проведена кодировка данных в целях исключения категориальных данных. Далее данные были разделены на тестовую, обучающую и валидационную выборки. При выполнении проекта были применены и сравнены модели \"Случайный лес\" и \"Решающее дерево\", как наиболее перспективные в рассматриваемом случае. Кроме того, выявлены значительный дисбалан данных. \n",
    "\n",
    "В заключительной части проекта были применены методы увеличения выборки и уравновешивания по классам (по результатам был выбран уравновешанный \"Случайный лес\").\n",
    "\n",
    "Результаты проверки модели \"Случайный лес\" на тестовой выборке показали, что модель обладает значением f1 0,61, которое превышается значение из условия задачи, что свидетельствует о выполнении поставленной задачи.\n",
    "\n",
    "Дополнительно установлено, что метрика auc_roc, полученная по результатам проверки на тестовой выборке, значетельно НЕ отличается от значения, полученного на валидационных данных."
   ]
  }
 ],
 "metadata": {
  "ExecuteTimeLog": [
   {
    "duration": 45,
    "start_time": "2022-12-13T12:29:16.107Z"
   },
   {
    "duration": 390,
    "start_time": "2022-12-13T12:29:17.992Z"
   },
   {
    "duration": 97,
    "start_time": "2022-12-13T12:29:19.311Z"
   },
   {
    "duration": 13,
    "start_time": "2022-12-13T12:29:28.480Z"
   },
   {
    "duration": 29,
    "start_time": "2022-12-13T13:45:07.901Z"
   },
   {
    "duration": 10,
    "start_time": "2022-12-13T13:45:22.707Z"
   },
   {
    "duration": 64,
    "start_time": "2022-12-13T13:46:46.820Z"
   },
   {
    "duration": 773,
    "start_time": "2022-12-13T13:46:53.188Z"
   },
   {
    "duration": 54,
    "start_time": "2022-12-13T13:46:55.580Z"
   },
   {
    "duration": 13,
    "start_time": "2022-12-13T13:46:57.727Z"
   },
   {
    "duration": 55,
    "start_time": "2022-12-13T13:46:59.988Z"
   },
   {
    "duration": 65,
    "start_time": "2022-12-13T13:47:18.635Z"
   },
   {
    "duration": 25,
    "start_time": "2022-12-13T13:47:32.340Z"
   },
   {
    "duration": 19,
    "start_time": "2022-12-13T13:47:39.333Z"
   },
   {
    "duration": 18,
    "start_time": "2022-12-13T13:47:58.341Z"
   },
   {
    "duration": 14,
    "start_time": "2022-12-13T13:48:47.917Z"
   },
   {
    "duration": 17,
    "start_time": "2022-12-13T13:49:15.726Z"
   },
   {
    "duration": 45,
    "start_time": "2022-12-27T13:16:21.834Z"
   },
   {
    "duration": 45,
    "start_time": "2022-12-27T13:16:34.260Z"
   },
   {
    "duration": 2007,
    "start_time": "2022-12-27T13:16:39.172Z"
   },
   {
    "duration": 99,
    "start_time": "2022-12-27T13:16:41.180Z"
   },
   {
    "duration": 11,
    "start_time": "2022-12-27T13:16:41.281Z"
   },
   {
    "duration": 35,
    "start_time": "2022-12-27T13:16:41.294Z"
   },
   {
    "duration": 147,
    "start_time": "2022-12-27T13:21:30.406Z"
   },
   {
    "duration": 56,
    "start_time": "2022-12-27T13:21:32.910Z"
   },
   {
    "duration": 55,
    "start_time": "2022-12-27T13:21:50.702Z"
   },
   {
    "duration": 1011,
    "start_time": "2022-12-27T13:39:25.684Z"
   },
   {
    "duration": 68,
    "start_time": "2022-12-27T13:39:26.696Z"
   },
   {
    "duration": 12,
    "start_time": "2022-12-27T13:39:26.766Z"
   },
   {
    "duration": 18,
    "start_time": "2022-12-27T13:39:26.779Z"
   },
   {
    "duration": 75,
    "start_time": "2022-12-27T13:41:59.918Z"
   },
   {
    "duration": 48,
    "start_time": "2022-12-27T13:42:19.199Z"
   },
   {
    "duration": 3,
    "start_time": "2022-12-27T13:44:37.143Z"
   },
   {
    "duration": 3,
    "start_time": "2022-12-27T13:44:47.759Z"
   },
   {
    "duration": 12,
    "start_time": "2022-12-27T13:45:12.486Z"
   },
   {
    "duration": 1076,
    "start_time": "2023-01-04T15:34:19.613Z"
   },
   {
    "duration": 180,
    "start_time": "2023-01-04T15:34:20.691Z"
   },
   {
    "duration": 17,
    "start_time": "2023-01-04T15:34:20.873Z"
   },
   {
    "duration": 70,
    "start_time": "2023-01-04T15:34:20.892Z"
   },
   {
    "duration": 0,
    "start_time": "2023-01-04T15:34:20.964Z"
   },
   {
    "duration": 981,
    "start_time": "2023-01-04T19:58:13.857Z"
   },
   {
    "duration": 55,
    "start_time": "2023-01-04T19:58:14.839Z"
   },
   {
    "duration": 11,
    "start_time": "2023-01-04T19:58:14.896Z"
   },
   {
    "duration": 71,
    "start_time": "2023-01-04T19:58:14.910Z"
   },
   {
    "duration": 0,
    "start_time": "2023-01-04T19:58:14.982Z"
   },
   {
    "duration": 3,
    "start_time": "2023-01-04T20:11:38.010Z"
   },
   {
    "duration": 12,
    "start_time": "2023-01-04T20:11:46.531Z"
   },
   {
    "duration": 90,
    "start_time": "2023-01-04T20:11:58.629Z"
   },
   {
    "duration": 9,
    "start_time": "2023-01-04T20:12:02.414Z"
   },
   {
    "duration": 4,
    "start_time": "2023-01-04T20:12:09.205Z"
   },
   {
    "duration": 10,
    "start_time": "2023-01-04T20:12:12.631Z"
   },
   {
    "duration": 47,
    "start_time": "2023-01-04T20:12:22.814Z"
   },
   {
    "duration": 6,
    "start_time": "2023-01-04T20:12:37.754Z"
   },
   {
    "duration": 11,
    "start_time": "2023-01-04T20:12:39.870Z"
   },
   {
    "duration": 998,
    "start_time": "2023-01-04T20:12:48.251Z"
   },
   {
    "duration": 58,
    "start_time": "2023-01-04T20:12:49.251Z"
   },
   {
    "duration": 12,
    "start_time": "2023-01-04T20:12:49.310Z"
   },
   {
    "duration": 6,
    "start_time": "2023-01-04T20:12:49.324Z"
   },
   {
    "duration": 11,
    "start_time": "2023-01-04T20:12:49.331Z"
   },
   {
    "duration": 16,
    "start_time": "2023-01-04T20:12:49.344Z"
   },
   {
    "duration": 49,
    "start_time": "2023-01-04T20:13:14.841Z"
   },
   {
    "duration": 12,
    "start_time": "2023-01-04T20:13:22.375Z"
   },
   {
    "duration": 997,
    "start_time": "2023-01-04T20:25:21.657Z"
   },
   {
    "duration": 58,
    "start_time": "2023-01-04T20:25:22.656Z"
   },
   {
    "duration": 12,
    "start_time": "2023-01-04T20:25:22.715Z"
   },
   {
    "duration": 16,
    "start_time": "2023-01-04T20:25:22.729Z"
   },
   {
    "duration": 8,
    "start_time": "2023-01-04T20:25:22.747Z"
   },
   {
    "duration": 12,
    "start_time": "2023-01-04T20:25:22.757Z"
   },
   {
    "duration": 200,
    "start_time": "2023-01-04T20:25:22.771Z"
   },
   {
    "duration": 180,
    "start_time": "2023-01-04T20:25:22.973Z"
   },
   {
    "duration": 194,
    "start_time": "2023-01-04T20:41:09.476Z"
   },
   {
    "duration": 259,
    "start_time": "2023-01-04T20:42:10.771Z"
   },
   {
    "duration": 179,
    "start_time": "2023-01-04T20:42:14.796Z"
   },
   {
    "duration": 125,
    "start_time": "2023-01-04T20:45:22.827Z"
   },
   {
    "duration": 1027,
    "start_time": "2023-01-04T21:13:45.106Z"
   },
   {
    "duration": 56,
    "start_time": "2023-01-04T21:13:46.135Z"
   },
   {
    "duration": 12,
    "start_time": "2023-01-04T21:13:46.193Z"
   },
   {
    "duration": 15,
    "start_time": "2023-01-04T21:13:46.207Z"
   },
   {
    "duration": 7,
    "start_time": "2023-01-04T21:13:46.224Z"
   },
   {
    "duration": 11,
    "start_time": "2023-01-04T21:13:46.233Z"
   },
   {
    "duration": 4,
    "start_time": "2023-01-04T21:13:46.245Z"
   },
   {
    "duration": 16,
    "start_time": "2023-01-04T21:13:46.251Z"
   },
   {
    "duration": 40,
    "start_time": "2023-01-04T21:13:46.269Z"
   },
   {
    "duration": 998,
    "start_time": "2023-01-04T21:26:58.731Z"
   },
   {
    "duration": 54,
    "start_time": "2023-01-04T21:26:59.731Z"
   },
   {
    "duration": 11,
    "start_time": "2023-01-04T21:26:59.786Z"
   },
   {
    "duration": 12,
    "start_time": "2023-01-04T21:26:59.799Z"
   },
   {
    "duration": 5,
    "start_time": "2023-01-04T21:26:59.813Z"
   },
   {
    "duration": 10,
    "start_time": "2023-01-04T21:26:59.820Z"
   },
   {
    "duration": 4,
    "start_time": "2023-01-04T21:26:59.831Z"
   },
   {
    "duration": 12,
    "start_time": "2023-01-04T21:26:59.837Z"
   },
   {
    "duration": 16,
    "start_time": "2023-01-04T21:26:59.851Z"
   },
   {
    "duration": 45,
    "start_time": "2023-01-05T15:21:06.795Z"
   },
   {
    "duration": 1006,
    "start_time": "2023-01-05T15:21:18.076Z"
   },
   {
    "duration": 185,
    "start_time": "2023-01-05T15:21:19.084Z"
   },
   {
    "duration": 12,
    "start_time": "2023-01-05T15:21:19.270Z"
   },
   {
    "duration": 15,
    "start_time": "2023-01-05T15:21:19.283Z"
   },
   {
    "duration": 6,
    "start_time": "2023-01-05T15:21:19.300Z"
   },
   {
    "duration": 14,
    "start_time": "2023-01-05T15:21:19.308Z"
   },
   {
    "duration": 4,
    "start_time": "2023-01-05T15:21:19.324Z"
   },
   {
    "duration": 16,
    "start_time": "2023-01-05T15:21:19.329Z"
   },
   {
    "duration": 17,
    "start_time": "2023-01-05T15:21:19.346Z"
   },
   {
    "duration": 4,
    "start_time": "2023-01-05T15:21:19.365Z"
   },
   {
    "duration": 1035,
    "start_time": "2023-01-05T17:59:06.535Z"
   },
   {
    "duration": 58,
    "start_time": "2023-01-05T17:59:07.572Z"
   },
   {
    "duration": 11,
    "start_time": "2023-01-05T17:59:07.632Z"
   },
   {
    "duration": 13,
    "start_time": "2023-01-05T17:59:07.645Z"
   },
   {
    "duration": 6,
    "start_time": "2023-01-05T17:59:07.660Z"
   },
   {
    "duration": 14,
    "start_time": "2023-01-05T17:59:07.668Z"
   },
   {
    "duration": 4,
    "start_time": "2023-01-05T17:59:07.683Z"
   },
   {
    "duration": 39,
    "start_time": "2023-01-05T17:59:07.689Z"
   },
   {
    "duration": 16,
    "start_time": "2023-01-05T17:59:07.730Z"
   },
   {
    "duration": 5,
    "start_time": "2023-01-05T17:59:07.747Z"
   },
   {
    "duration": 42,
    "start_time": "2023-01-05T21:07:33.544Z"
   },
   {
    "duration": 1059,
    "start_time": "2023-01-05T21:10:41.826Z"
   },
   {
    "duration": 55,
    "start_time": "2023-01-05T21:10:42.886Z"
   },
   {
    "duration": 12,
    "start_time": "2023-01-05T21:10:42.942Z"
   },
   {
    "duration": 14,
    "start_time": "2023-01-05T21:10:42.956Z"
   },
   {
    "duration": 6,
    "start_time": "2023-01-05T21:10:42.972Z"
   },
   {
    "duration": 10,
    "start_time": "2023-01-05T21:10:42.980Z"
   },
   {
    "duration": 3,
    "start_time": "2023-01-05T21:10:42.992Z"
   },
   {
    "duration": 12,
    "start_time": "2023-01-05T21:10:43.022Z"
   },
   {
    "duration": 15,
    "start_time": "2023-01-05T21:10:43.036Z"
   },
   {
    "duration": 5,
    "start_time": "2023-01-05T21:10:43.053Z"
   },
   {
    "duration": 289,
    "start_time": "2023-01-05T21:10:43.059Z"
   },
   {
    "duration": 2386,
    "start_time": "2023-01-05T21:11:11.564Z"
   },
   {
    "duration": 2840,
    "start_time": "2023-01-05T21:11:24.657Z"
   },
   {
    "duration": 3433,
    "start_time": "2023-01-05T21:11:34.843Z"
   },
   {
    "duration": 3221,
    "start_time": "2023-01-05T21:11:41.215Z"
   },
   {
    "duration": 3252,
    "start_time": "2023-01-05T21:12:22.463Z"
   },
   {
    "duration": 3323,
    "start_time": "2023-01-05T21:12:33.407Z"
   },
   {
    "duration": 3256,
    "start_time": "2023-01-05T21:13:16.904Z"
   },
   {
    "duration": 3311,
    "start_time": "2023-01-05T21:13:37.175Z"
   },
   {
    "duration": 3,
    "start_time": "2023-01-05T21:14:59.010Z"
   },
   {
    "duration": 1078,
    "start_time": "2023-01-05T21:15:10.024Z"
   },
   {
    "duration": 57,
    "start_time": "2023-01-05T21:15:11.103Z"
   },
   {
    "duration": 11,
    "start_time": "2023-01-05T21:15:11.162Z"
   },
   {
    "duration": 37,
    "start_time": "2023-01-05T21:15:11.175Z"
   },
   {
    "duration": 5,
    "start_time": "2023-01-05T21:15:11.214Z"
   },
   {
    "duration": 35,
    "start_time": "2023-01-05T21:15:11.220Z"
   },
   {
    "duration": 25,
    "start_time": "2023-01-05T21:15:11.257Z"
   },
   {
    "duration": 20,
    "start_time": "2023-01-05T21:15:11.283Z"
   },
   {
    "duration": 28,
    "start_time": "2023-01-05T21:15:11.305Z"
   },
   {
    "duration": 6,
    "start_time": "2023-01-05T21:15:11.335Z"
   },
   {
    "duration": 3268,
    "start_time": "2023-01-05T21:15:11.342Z"
   },
   {
    "duration": 46,
    "start_time": "2023-01-05T21:15:14.611Z"
   },
   {
    "duration": 43,
    "start_time": "2023-01-05T21:21:30.029Z"
   },
   {
    "duration": 90,
    "start_time": "2023-01-05T21:22:42.484Z"
   },
   {
    "duration": 1043,
    "start_time": "2023-01-05T21:22:52.226Z"
   },
   {
    "duration": 55,
    "start_time": "2023-01-05T21:22:53.271Z"
   },
   {
    "duration": 11,
    "start_time": "2023-01-05T21:22:53.328Z"
   },
   {
    "duration": 12,
    "start_time": "2023-01-05T21:22:53.341Z"
   },
   {
    "duration": 5,
    "start_time": "2023-01-05T21:22:53.355Z"
   },
   {
    "duration": 11,
    "start_time": "2023-01-05T21:22:53.362Z"
   },
   {
    "duration": 3,
    "start_time": "2023-01-05T21:22:53.375Z"
   },
   {
    "duration": 43,
    "start_time": "2023-01-05T21:22:53.380Z"
   },
   {
    "duration": 14,
    "start_time": "2023-01-05T21:22:53.424Z"
   },
   {
    "duration": 4,
    "start_time": "2023-01-05T21:22:53.440Z"
   },
   {
    "duration": 3283,
    "start_time": "2023-01-05T21:22:53.445Z"
   },
   {
    "duration": 44,
    "start_time": "2023-01-05T21:22:56.730Z"
   },
   {
    "duration": 279,
    "start_time": "2023-01-05T21:22:56.776Z"
   },
   {
    "duration": 1136,
    "start_time": "2023-01-05T21:26:07.332Z"
   },
   {
    "duration": 58,
    "start_time": "2023-01-05T21:26:08.471Z"
   },
   {
    "duration": 14,
    "start_time": "2023-01-05T21:26:08.531Z"
   },
   {
    "duration": 16,
    "start_time": "2023-01-05T21:26:08.547Z"
   },
   {
    "duration": 7,
    "start_time": "2023-01-05T21:26:08.565Z"
   },
   {
    "duration": 14,
    "start_time": "2023-01-05T21:26:08.573Z"
   },
   {
    "duration": 5,
    "start_time": "2023-01-05T21:26:08.589Z"
   },
   {
    "duration": 39,
    "start_time": "2023-01-05T21:26:08.595Z"
   },
   {
    "duration": 34,
    "start_time": "2023-01-05T21:26:08.636Z"
   },
   {
    "duration": 5,
    "start_time": "2023-01-05T21:26:08.673Z"
   },
   {
    "duration": 3392,
    "start_time": "2023-01-05T21:26:08.680Z"
   },
   {
    "duration": 136,
    "start_time": "2023-01-05T21:26:12.073Z"
   },
   {
    "duration": 0,
    "start_time": "2023-01-05T21:26:12.211Z"
   },
   {
    "duration": 0,
    "start_time": "2023-01-05T21:26:12.212Z"
   },
   {
    "duration": 43,
    "start_time": "2023-01-05T21:26:42.725Z"
   },
   {
    "duration": 263,
    "start_time": "2023-01-05T21:26:46.664Z"
   },
   {
    "duration": 7,
    "start_time": "2023-01-05T21:26:54.904Z"
   },
   {
    "duration": 15,
    "start_time": "2023-01-05T21:57:20.798Z"
   },
   {
    "duration": 273,
    "start_time": "2023-01-05T21:58:40.899Z"
   },
   {
    "duration": 1008,
    "start_time": "2023-01-08T20:24:51.875Z"
   },
   {
    "duration": 177,
    "start_time": "2023-01-08T20:24:52.885Z"
   },
   {
    "duration": 11,
    "start_time": "2023-01-08T20:24:53.064Z"
   },
   {
    "duration": 13,
    "start_time": "2023-01-08T20:24:53.077Z"
   },
   {
    "duration": 6,
    "start_time": "2023-01-08T20:24:53.091Z"
   },
   {
    "duration": 12,
    "start_time": "2023-01-08T20:24:53.098Z"
   },
   {
    "duration": 3,
    "start_time": "2023-01-08T20:24:53.112Z"
   },
   {
    "duration": 14,
    "start_time": "2023-01-08T20:24:53.117Z"
   },
   {
    "duration": 15,
    "start_time": "2023-01-08T20:24:53.132Z"
   },
   {
    "duration": 4,
    "start_time": "2023-01-08T20:24:53.149Z"
   },
   {
    "duration": 3122,
    "start_time": "2023-01-08T20:24:53.155Z"
   },
   {
    "duration": 49,
    "start_time": "2023-01-08T20:24:56.280Z"
   },
   {
    "duration": 284,
    "start_time": "2023-01-08T20:24:56.330Z"
   },
   {
    "duration": 7,
    "start_time": "2023-01-08T20:24:56.615Z"
   },
   {
    "duration": 16,
    "start_time": "2023-01-08T20:24:56.623Z"
   },
   {
    "duration": 266,
    "start_time": "2023-01-08T20:24:56.640Z"
   },
   {
    "duration": 1141,
    "start_time": "2023-01-09T09:47:52.906Z"
   },
   {
    "duration": 196,
    "start_time": "2023-01-09T09:47:54.049Z"
   },
   {
    "duration": 14,
    "start_time": "2023-01-09T09:47:54.246Z"
   },
   {
    "duration": 25,
    "start_time": "2023-01-09T09:47:54.262Z"
   },
   {
    "duration": 7,
    "start_time": "2023-01-09T09:47:54.289Z"
   },
   {
    "duration": 39,
    "start_time": "2023-01-09T09:47:54.298Z"
   },
   {
    "duration": 18,
    "start_time": "2023-01-09T09:47:54.339Z"
   },
   {
    "duration": 26,
    "start_time": "2023-01-09T09:47:54.359Z"
   },
   {
    "duration": 23,
    "start_time": "2023-01-09T09:47:54.387Z"
   },
   {
    "duration": 17,
    "start_time": "2023-01-09T09:47:54.412Z"
   },
   {
    "duration": 3607,
    "start_time": "2023-01-09T09:47:54.431Z"
   },
   {
    "duration": 49,
    "start_time": "2023-01-09T09:47:58.040Z"
   },
   {
    "duration": 305,
    "start_time": "2023-01-09T09:47:58.091Z"
   },
   {
    "duration": 16,
    "start_time": "2023-01-09T09:47:58.398Z"
   },
   {
    "duration": 15,
    "start_time": "2023-01-09T09:47:58.415Z"
   },
   {
    "duration": 295,
    "start_time": "2023-01-09T09:47:58.432Z"
   },
   {
    "duration": 111,
    "start_time": "2023-01-09T09:47:58.729Z"
   },
   {
    "duration": 1081,
    "start_time": "2023-01-09T09:50:57.973Z"
   },
   {
    "duration": 61,
    "start_time": "2023-01-09T09:50:59.056Z"
   },
   {
    "duration": 18,
    "start_time": "2023-01-09T09:50:59.120Z"
   },
   {
    "duration": 33,
    "start_time": "2023-01-09T09:50:59.141Z"
   },
   {
    "duration": 8,
    "start_time": "2023-01-09T09:50:59.176Z"
   },
   {
    "duration": 21,
    "start_time": "2023-01-09T09:50:59.185Z"
   },
   {
    "duration": 6,
    "start_time": "2023-01-09T09:50:59.208Z"
   },
   {
    "duration": 19,
    "start_time": "2023-01-09T09:50:59.216Z"
   },
   {
    "duration": 24,
    "start_time": "2023-01-09T09:50:59.237Z"
   },
   {
    "duration": 6,
    "start_time": "2023-01-09T09:50:59.264Z"
   },
   {
    "duration": 3641,
    "start_time": "2023-01-09T09:50:59.272Z"
   },
   {
    "duration": 49,
    "start_time": "2023-01-09T09:51:02.914Z"
   },
   {
    "duration": 308,
    "start_time": "2023-01-09T09:51:02.965Z"
   },
   {
    "duration": 7,
    "start_time": "2023-01-09T09:51:03.275Z"
   },
   {
    "duration": 29,
    "start_time": "2023-01-09T09:51:03.284Z"
   },
   {
    "duration": 291,
    "start_time": "2023-01-09T09:51:03.314Z"
   },
   {
    "duration": 15,
    "start_time": "2023-01-09T09:51:03.607Z"
   },
   {
    "duration": 39,
    "start_time": "2023-01-09T09:54:17.969Z"
   },
   {
    "duration": 37,
    "start_time": "2023-01-09T09:59:27.739Z"
   },
   {
    "duration": 37,
    "start_time": "2023-01-09T09:59:38.529Z"
   },
   {
    "duration": 928,
    "start_time": "2023-01-09T10:00:08.483Z"
   },
   {
    "duration": 616,
    "start_time": "2023-01-09T10:17:38.322Z"
   },
   {
    "duration": 48,
    "start_time": "2023-01-09T10:18:13.381Z"
   },
   {
    "duration": 1576,
    "start_time": "2023-01-09T10:47:07.194Z"
   },
   {
    "duration": 95,
    "start_time": "2023-01-09T10:47:08.772Z"
   },
   {
    "duration": 64,
    "start_time": "2023-01-09T10:47:08.869Z"
   },
   {
    "duration": 21,
    "start_time": "2023-01-09T10:47:08.935Z"
   },
   {
    "duration": 70,
    "start_time": "2023-01-09T10:47:08.958Z"
   },
   {
    "duration": 13,
    "start_time": "2023-01-09T10:47:09.030Z"
   },
   {
    "duration": 11,
    "start_time": "2023-01-09T10:47:09.045Z"
   },
   {
    "duration": 70,
    "start_time": "2023-01-09T10:47:09.058Z"
   },
   {
    "duration": 17,
    "start_time": "2023-01-09T10:47:09.130Z"
   },
   {
    "duration": 8,
    "start_time": "2023-01-09T10:47:09.149Z"
   },
   {
    "duration": 8212,
    "start_time": "2023-01-09T10:47:09.158Z"
   },
   {
    "duration": 104,
    "start_time": "2023-01-09T10:47:17.427Z"
   },
   {
    "duration": 635,
    "start_time": "2023-01-09T10:47:17.533Z"
   },
   {
    "duration": 61,
    "start_time": "2023-01-09T10:47:18.169Z"
   },
   {
    "duration": 18,
    "start_time": "2023-01-09T10:47:18.232Z"
   },
   {
    "duration": 698,
    "start_time": "2023-01-09T10:47:18.252Z"
   },
   {
    "duration": 75,
    "start_time": "2023-01-09T10:47:18.952Z"
   },
   {
    "duration": 96,
    "start_time": "2023-01-09T10:47:19.030Z"
   },
   {
    "duration": 2019,
    "start_time": "2023-01-09T10:47:19.129Z"
   },
   {
    "duration": 1479,
    "start_time": "2023-01-09T10:47:21.150Z"
   },
   {
    "duration": 105,
    "start_time": "2023-01-09T10:47:22.631Z"
   },
   {
    "duration": 12,
    "start_time": "2023-01-09T11:01:13.291Z"
   },
   {
    "duration": 57,
    "start_time": "2023-01-09T13:23:08.292Z"
   },
   {
    "duration": 1130,
    "start_time": "2023-01-09T13:23:16.253Z"
   },
   {
    "duration": 74,
    "start_time": "2023-01-09T13:23:17.385Z"
   },
   {
    "duration": 13,
    "start_time": "2023-01-09T13:23:17.461Z"
   },
   {
    "duration": 16,
    "start_time": "2023-01-09T13:23:17.476Z"
   },
   {
    "duration": 7,
    "start_time": "2023-01-09T13:23:17.494Z"
   },
   {
    "duration": 11,
    "start_time": "2023-01-09T13:23:17.502Z"
   },
   {
    "duration": 3,
    "start_time": "2023-01-09T13:23:17.515Z"
   },
   {
    "duration": 39,
    "start_time": "2023-01-09T13:23:17.520Z"
   },
   {
    "duration": 17,
    "start_time": "2023-01-09T13:23:17.561Z"
   },
   {
    "duration": 6,
    "start_time": "2023-01-09T13:23:17.581Z"
   },
   {
    "duration": 3835,
    "start_time": "2023-01-09T13:23:17.588Z"
   },
   {
    "duration": 53,
    "start_time": "2023-01-09T13:23:21.424Z"
   },
   {
    "duration": 308,
    "start_time": "2023-01-09T13:23:21.479Z"
   },
   {
    "duration": 8,
    "start_time": "2023-01-09T13:23:21.788Z"
   },
   {
    "duration": 18,
    "start_time": "2023-01-09T13:23:21.797Z"
   },
   {
    "duration": 300,
    "start_time": "2023-01-09T13:23:21.817Z"
   },
   {
    "duration": 14,
    "start_time": "2023-01-09T13:23:22.118Z"
   },
   {
    "duration": 51,
    "start_time": "2023-01-09T13:23:22.133Z"
   },
   {
    "duration": 974,
    "start_time": "2023-01-09T13:23:22.186Z"
   },
   {
    "duration": 721,
    "start_time": "2023-01-09T13:23:23.162Z"
   },
   {
    "duration": 50,
    "start_time": "2023-01-09T13:23:23.885Z"
   },
   {
    "duration": 3734,
    "start_time": "2023-01-09T13:23:58.470Z"
   },
   {
    "duration": 1132,
    "start_time": "2023-01-09T13:24:26.173Z"
   },
   {
    "duration": 47,
    "start_time": "2023-01-09T13:24:27.308Z"
   },
   {
    "duration": 13,
    "start_time": "2023-01-09T13:24:27.357Z"
   },
   {
    "duration": 18,
    "start_time": "2023-01-09T13:24:27.373Z"
   },
   {
    "duration": 9,
    "start_time": "2023-01-09T13:24:27.393Z"
   },
   {
    "duration": 20,
    "start_time": "2023-01-09T13:24:27.404Z"
   },
   {
    "duration": 11,
    "start_time": "2023-01-09T13:24:27.426Z"
   },
   {
    "duration": 24,
    "start_time": "2023-01-09T13:24:27.439Z"
   },
   {
    "duration": 21,
    "start_time": "2023-01-09T13:24:27.465Z"
   },
   {
    "duration": 6,
    "start_time": "2023-01-09T13:24:27.489Z"
   },
   {
    "duration": 3681,
    "start_time": "2023-01-09T13:24:27.496Z"
   },
   {
    "duration": 47,
    "start_time": "2023-01-09T13:24:31.178Z"
   },
   {
    "duration": 344,
    "start_time": "2023-01-09T13:24:31.227Z"
   },
   {
    "duration": 8,
    "start_time": "2023-01-09T13:24:31.573Z"
   },
   {
    "duration": 21,
    "start_time": "2023-01-09T13:24:31.583Z"
   },
   {
    "duration": 314,
    "start_time": "2023-01-09T13:24:31.605Z"
   },
   {
    "duration": 13,
    "start_time": "2023-01-09T13:24:31.921Z"
   },
   {
    "duration": 53,
    "start_time": "2023-01-09T13:24:31.936Z"
   },
   {
    "duration": 937,
    "start_time": "2023-01-09T13:24:31.991Z"
   },
   {
    "duration": 661,
    "start_time": "2023-01-09T13:24:32.930Z"
   },
   {
    "duration": 51,
    "start_time": "2023-01-09T13:24:33.593Z"
   },
   {
    "duration": 323,
    "start_time": "2023-01-09T13:55:48.949Z"
   },
   {
    "duration": 9,
    "start_time": "2023-01-09T13:56:31.239Z"
   },
   {
    "duration": 29,
    "start_time": "2023-01-09T13:58:19.446Z"
   },
   {
    "duration": 37,
    "start_time": "2023-01-09T14:01:57.125Z"
   },
   {
    "duration": 36,
    "start_time": "2023-01-09T14:02:10.342Z"
   },
   {
    "duration": 34,
    "start_time": "2023-01-09T14:05:22.711Z"
   },
   {
    "duration": 313,
    "start_time": "2023-01-09T14:07:22.415Z"
   },
   {
    "duration": 40,
    "start_time": "2023-01-09T14:08:44.519Z"
   },
   {
    "duration": 414,
    "start_time": "2023-01-09T14:08:51.079Z"
   },
   {
    "duration": 357,
    "start_time": "2023-01-09T14:09:18.399Z"
   },
   {
    "duration": 1141,
    "start_time": "2023-01-09T14:10:04.625Z"
   },
   {
    "duration": 48,
    "start_time": "2023-01-09T14:10:35.007Z"
   },
   {
    "duration": 1265,
    "start_time": "2023-01-09T14:11:23.795Z"
   },
   {
    "duration": 73,
    "start_time": "2023-01-09T14:11:25.064Z"
   },
   {
    "duration": 17,
    "start_time": "2023-01-09T14:11:25.139Z"
   },
   {
    "duration": 27,
    "start_time": "2023-01-09T14:11:25.158Z"
   },
   {
    "duration": 39,
    "start_time": "2023-01-09T14:11:25.188Z"
   },
   {
    "duration": 29,
    "start_time": "2023-01-09T14:11:25.229Z"
   },
   {
    "duration": 25,
    "start_time": "2023-01-09T14:11:25.260Z"
   },
   {
    "duration": 17,
    "start_time": "2023-01-09T14:11:25.286Z"
   },
   {
    "duration": 18,
    "start_time": "2023-01-09T14:11:25.306Z"
   },
   {
    "duration": 6,
    "start_time": "2023-01-09T14:11:25.327Z"
   },
   {
    "duration": 4155,
    "start_time": "2023-01-09T14:11:25.335Z"
   },
   {
    "duration": 64,
    "start_time": "2023-01-09T14:11:29.493Z"
   },
   {
    "duration": 327,
    "start_time": "2023-01-09T14:11:29.559Z"
   },
   {
    "duration": 29,
    "start_time": "2023-01-09T14:11:29.888Z"
   },
   {
    "duration": 53,
    "start_time": "2023-01-09T14:11:29.920Z"
   },
   {
    "duration": 393,
    "start_time": "2023-01-09T14:11:29.975Z"
   },
   {
    "duration": 15,
    "start_time": "2023-01-09T14:11:30.370Z"
   },
   {
    "duration": 56,
    "start_time": "2023-01-09T14:11:30.387Z"
   },
   {
    "duration": 1129,
    "start_time": "2023-01-09T14:11:30.445Z"
   },
   {
    "duration": 724,
    "start_time": "2023-01-09T14:11:31.575Z"
   },
   {
    "duration": 69,
    "start_time": "2023-01-09T14:11:32.301Z"
   },
   {
    "duration": 53,
    "start_time": "2023-01-09T14:12:35.120Z"
   },
   {
    "duration": 43,
    "start_time": "2023-01-09T14:13:13.367Z"
   },
   {
    "duration": 59,
    "start_time": "2023-01-09T14:16:06.144Z"
   },
   {
    "duration": 14,
    "start_time": "2023-01-09T14:19:23.468Z"
   },
   {
    "duration": 1194,
    "start_time": "2023-01-09T14:19:31.025Z"
   },
   {
    "duration": 54,
    "start_time": "2023-01-09T14:19:32.221Z"
   },
   {
    "duration": 14,
    "start_time": "2023-01-09T14:19:32.277Z"
   },
   {
    "duration": 15,
    "start_time": "2023-01-09T14:19:32.293Z"
   },
   {
    "duration": 8,
    "start_time": "2023-01-09T14:19:32.310Z"
   },
   {
    "duration": 42,
    "start_time": "2023-01-09T14:19:32.320Z"
   },
   {
    "duration": 5,
    "start_time": "2023-01-09T14:19:32.365Z"
   },
   {
    "duration": 20,
    "start_time": "2023-01-09T14:19:32.373Z"
   },
   {
    "duration": 20,
    "start_time": "2023-01-09T14:19:32.395Z"
   },
   {
    "duration": 6,
    "start_time": "2023-01-09T14:19:32.418Z"
   },
   {
    "duration": 4075,
    "start_time": "2023-01-09T14:19:32.426Z"
   },
   {
    "duration": 61,
    "start_time": "2023-01-09T14:19:36.503Z"
   },
   {
    "duration": 303,
    "start_time": "2023-01-09T14:19:36.565Z"
   },
   {
    "duration": 28,
    "start_time": "2023-01-09T14:19:36.870Z"
   },
   {
    "duration": 32,
    "start_time": "2023-01-09T14:19:36.900Z"
   },
   {
    "duration": 383,
    "start_time": "2023-01-09T14:19:36.934Z"
   },
   {
    "duration": 15,
    "start_time": "2023-01-09T14:19:37.319Z"
   },
   {
    "duration": 49,
    "start_time": "2023-01-09T14:19:37.336Z"
   },
   {
    "duration": 995,
    "start_time": "2023-01-09T14:19:37.387Z"
   },
   {
    "duration": 744,
    "start_time": "2023-01-09T14:19:38.384Z"
   },
   {
    "duration": 64,
    "start_time": "2023-01-09T14:19:39.130Z"
   },
   {
    "duration": 51,
    "start_time": "2023-01-09T14:20:22.129Z"
   },
   {
    "duration": 1268,
    "start_time": "2023-01-09T15:26:39.559Z"
   },
   {
    "duration": 68,
    "start_time": "2023-01-09T15:26:40.829Z"
   },
   {
    "duration": 13,
    "start_time": "2023-01-09T15:26:40.899Z"
   },
   {
    "duration": 18,
    "start_time": "2023-01-09T15:26:40.915Z"
   },
   {
    "duration": 12,
    "start_time": "2023-01-09T15:26:40.935Z"
   },
   {
    "duration": 32,
    "start_time": "2023-01-09T15:26:40.948Z"
   },
   {
    "duration": 4,
    "start_time": "2023-01-09T15:26:40.982Z"
   },
   {
    "duration": 34,
    "start_time": "2023-01-09T15:26:40.988Z"
   },
   {
    "duration": 27,
    "start_time": "2023-01-09T15:26:41.024Z"
   },
   {
    "duration": 8,
    "start_time": "2023-01-09T15:26:41.055Z"
   },
   {
    "duration": 3739,
    "start_time": "2023-01-09T15:26:41.065Z"
   },
   {
    "duration": 48,
    "start_time": "2023-01-09T15:26:44.806Z"
   },
   {
    "duration": 339,
    "start_time": "2023-01-09T15:26:44.856Z"
   },
   {
    "duration": 32,
    "start_time": "2023-01-09T15:26:45.197Z"
   },
   {
    "duration": 50,
    "start_time": "2023-01-09T15:26:45.231Z"
   },
   {
    "duration": 405,
    "start_time": "2023-01-09T15:26:45.283Z"
   },
   {
    "duration": 14,
    "start_time": "2023-01-09T15:26:45.691Z"
   },
   {
    "duration": 53,
    "start_time": "2023-01-09T15:26:45.707Z"
   },
   {
    "duration": 937,
    "start_time": "2023-01-09T15:26:45.763Z"
   },
   {
    "duration": 668,
    "start_time": "2023-01-09T15:26:46.702Z"
   },
   {
    "duration": 59,
    "start_time": "2023-01-09T15:26:47.372Z"
   },
   {
    "duration": 57,
    "start_time": "2023-01-09T15:50:15.732Z"
   },
   {
    "duration": 1144,
    "start_time": "2023-01-09T15:50:22.910Z"
   },
   {
    "duration": 109,
    "start_time": "2023-01-09T15:50:24.055Z"
   },
   {
    "duration": 11,
    "start_time": "2023-01-09T15:50:24.166Z"
   },
   {
    "duration": 24,
    "start_time": "2023-01-09T15:50:24.179Z"
   },
   {
    "duration": 7,
    "start_time": "2023-01-09T15:50:24.204Z"
   },
   {
    "duration": 13,
    "start_time": "2023-01-09T15:50:24.212Z"
   },
   {
    "duration": 4,
    "start_time": "2023-01-09T15:50:24.226Z"
   },
   {
    "duration": 16,
    "start_time": "2023-01-09T15:50:24.231Z"
   },
   {
    "duration": 16,
    "start_time": "2023-01-09T15:50:24.249Z"
   },
   {
    "duration": 31,
    "start_time": "2023-01-09T15:50:24.267Z"
   },
   {
    "duration": 3495,
    "start_time": "2023-01-09T15:50:24.300Z"
   },
   {
    "duration": 43,
    "start_time": "2023-01-09T15:50:27.797Z"
   },
   {
    "duration": 287,
    "start_time": "2023-01-09T15:50:27.842Z"
   },
   {
    "duration": 25,
    "start_time": "2023-01-09T15:50:28.131Z"
   },
   {
    "duration": 44,
    "start_time": "2023-01-09T15:50:28.158Z"
   },
   {
    "duration": 634,
    "start_time": "2023-01-09T15:50:28.204Z"
   },
   {
    "duration": 14,
    "start_time": "2023-01-09T15:50:28.840Z"
   },
   {
    "duration": 50,
    "start_time": "2023-01-09T15:50:28.855Z"
   },
   {
    "duration": 834,
    "start_time": "2023-01-09T15:50:28.906Z"
   },
   {
    "duration": 642,
    "start_time": "2023-01-09T15:50:29.742Z"
   },
   {
    "duration": 60,
    "start_time": "2023-01-09T15:50:30.387Z"
   },
   {
    "duration": 1144,
    "start_time": "2023-01-10T13:34:40.463Z"
   },
   {
    "duration": 115,
    "start_time": "2023-01-10T13:34:41.609Z"
   },
   {
    "duration": 14,
    "start_time": "2023-01-10T13:34:41.728Z"
   },
   {
    "duration": 17,
    "start_time": "2023-01-10T13:34:41.743Z"
   },
   {
    "duration": 7,
    "start_time": "2023-01-10T13:34:41.761Z"
   },
   {
    "duration": 13,
    "start_time": "2023-01-10T13:34:41.770Z"
   },
   {
    "duration": 4,
    "start_time": "2023-01-10T13:34:41.785Z"
   },
   {
    "duration": 20,
    "start_time": "2023-01-10T13:34:41.791Z"
   },
   {
    "duration": 42,
    "start_time": "2023-01-10T13:34:41.814Z"
   },
   {
    "duration": 6,
    "start_time": "2023-01-10T13:34:41.858Z"
   },
   {
    "duration": 3895,
    "start_time": "2023-01-10T13:34:41.866Z"
   },
   {
    "duration": 48,
    "start_time": "2023-01-10T13:34:45.763Z"
   },
   {
    "duration": 302,
    "start_time": "2023-01-10T13:34:45.813Z"
   },
   {
    "duration": 39,
    "start_time": "2023-01-10T13:34:46.116Z"
   },
   {
    "duration": 31,
    "start_time": "2023-01-10T13:34:46.157Z"
   },
   {
    "duration": 718,
    "start_time": "2023-01-10T13:34:46.190Z"
   },
   {
    "duration": 14,
    "start_time": "2023-01-10T13:34:46.910Z"
   },
   {
    "duration": 51,
    "start_time": "2023-01-10T13:34:46.925Z"
   },
   {
    "duration": 949,
    "start_time": "2023-01-10T13:34:46.978Z"
   },
   {
    "duration": 677,
    "start_time": "2023-01-10T13:34:47.929Z"
   },
   {
    "duration": 60,
    "start_time": "2023-01-10T13:34:48.608Z"
   }
  ],
  "kernelspec": {
   "display_name": "Python 3 (ipykernel)",
   "language": "python",
   "name": "python3"
  },
  "language_info": {
   "codemirror_mode": {
    "name": "ipython",
    "version": 3
   },
   "file_extension": ".py",
   "mimetype": "text/x-python",
   "name": "python",
   "nbconvert_exporter": "python",
   "pygments_lexer": "ipython3",
   "version": "3.10.9"
  },
  "toc": {
   "base_numbering": 1,
   "nav_menu": {},
   "number_sections": true,
   "sideBar": true,
   "skip_h1_title": true,
   "title_cell": "Содержание",
   "title_sidebar": "Contents",
   "toc_cell": true,
   "toc_position": {
    "height": "calc(100% - 180px)",
    "left": "10px",
    "top": "150px",
    "width": "165px"
   },
   "toc_section_display": true,
   "toc_window_display": true
  }
 },
 "nbformat": 4,
 "nbformat_minor": 2
}
